{
 "cells": [
  {
   "cell_type": "markdown",
   "metadata": {},
   "source": [
    "# Mini-Kaggle Project 2: Adult Income Classification\n",
    "Don Krapohl"
   ]
  },
  {
   "cell_type": "markdown",
   "metadata": {},
   "source": [
    "## Summary\n",
    "\n",
    "I used looping to try out many hyperparameters to choose the best model over the preprocessed data. \n"
   ]
  },
  {
   "cell_type": "markdown",
   "metadata": {},
   "source": [
    "## Requirements\n",
    "\n",
    "Predict the income level of individuals based on various demographic and personal information.\n",
    "\n",
    "- Split the provided dataset into a suitable training set and testing set.\n",
    "- Train various classifiers on your training set, including Logistic Regression, SVM, Decision Trees, KNN, and Random Forest.\n",
    "- Compare the performance of the classifiers and submit your best score.\n",
    "- Aim to beat the benchmark performance of 78% on the hidden test dataset. If your performance is lower than 78%, you will lose the entire 70% of the grade allocated for the coding portion of this assignment.\n",
    "- Note that the provided test dataset (`test.csv`) does not have target variables and is solely for testing your submission within our Kaggle system. Your training dataset (`train.csv`) is all you have, so split it appropriately for training and evaluation purposes.\n",
    "- Submit your final notebook to Canvas for peer-review.\n",
    "- In your notebook, use markdown to explain your steps, rationale, and exploration of the model's performance on various classifiers. Clearly mention which classifier you have decided on and your rationale to submit it as your final submission on Kaggle.\n",
    "- Your Kaggle team name should be exactly identical to your name in Canvas.\n",
    "- Your notebook submitted on Canvas will be peer-reviewed for further evaluation.\n",
    "- Submit your submission file on Kaggle and notebook on Canvas by Nov 17, 2024, 11:59 PM."
   ]
  },
  {
   "cell_type": "markdown",
   "metadata": {},
   "source": [
    "### We will be training, testing, and using the following models:\n",
    "\n",
    "* Logistic Regression\n",
    "* SVM\n",
    "* Decision Trees\n",
    "* Random Forest\n",
    "* KNN\n",
    "\n",
    "Ref: https://scikit-learn.org/1.5/supervised_learning.html"
   ]
  },
  {
   "cell_type": "markdown",
   "metadata": {},
   "source": [
    "## Approach\n",
    "\n",
    "I will:\n",
    "* load from train.csv\n",
    "* explore the data for quality and distribution\n",
    "* scale and encode the features\n",
    "* do feature selection to reduce dimensionality\n",
    "* split the data into train and test sets\n",
    "* train all the models and select the one with the best accuracy\n",
    "    \n",
    "I'll train multiple models for each of the classifier algorithms and capture the one of each type that has the highest accuracy. After all are trained and tested I'll select the one with the highest accuracy and highest AUC as my submission.  I'll then predict over the test.csv file and submit the results."
   ]
  },
  {
   "cell_type": "markdown",
   "metadata": {},
   "source": [
    "## Environment Setup"
   ]
  },
  {
   "cell_type": "markdown",
   "metadata": {},
   "source": [
    "### Establish environment\n",
    "1. Download the python venv for the project from https://github.com/dkrapohl/uwf-venv-breast-cancer/tree/main (I'm using the same one from project 1)\n",
    "2. Activate the environment using the README from that repo\n",
    "3. Set the Jupyter environment to use this kernel (top right of this window)\n",
    "\n",
    "If we need to reproduce the environment the private repo for this notebook has a pip requirements.txt"
   ]
  },
  {
   "cell_type": "markdown",
   "metadata": {},
   "source": [
    "## Data Exploration"
   ]
  },
  {
   "cell_type": "markdown",
   "metadata": {},
   "source": [
    "### Import required libraries.\n"
   ]
  },
  {
   "cell_type": "code",
   "execution_count": 1,
   "metadata": {},
   "outputs": [],
   "source": [
    "# basic dataframe and operations\n",
    "import pandas as pd\n",
    "import numpy as np\n",
    "\n",
    "# visualization\n",
    "import matplotlib.pyplot as plt\n",
    "import seaborn as sns\n",
    "\n",
    "# manipulation and preprocessing\n",
    "from sklearn.preprocessing import StandardScaler, OneHotEncoder\n",
    "from sklearn.compose import ColumnTransformer\n",
    "from sklearn.model_selection import train_test_split, cross_val_score\n",
    "from sklearn.decomposition import PCA\n",
    "\n",
    "# models\n",
    "from sklearn.linear_model import LogisticRegression\n",
    "from sklearn.svm import SVC\n",
    "from sklearn.tree import DecisionTreeClassifier\n",
    "from sklearn.ensemble import RandomForestClassifier\n",
    "from sklearn.neighbors import KNeighborsClassifier\n",
    "from sklearn.discriminant_analysis import LinearDiscriminantAnalysis as LDA\n",
    "\n",
    "# measuring results\n",
    "from sklearn.metrics import accuracy_score, f1_score, confusion_matrix, mean_absolute_error, roc_auc_score, precision_score, recall_score\n",
    "\n",
    "# warning suppression\n",
    "import warnings\n",
    "from sklearn.exceptions import ConvergenceWarning"
   ]
  },
  {
   "cell_type": "code",
   "execution_count": 2,
   "metadata": {},
   "outputs": [],
   "source": [
    "# Suppress ConvergenceWarnings and UserWarning.  They're noise here.\n",
    "warnings.filterwarnings(\"ignore\", category=ConvergenceWarning)\n",
    "warnings.filterwarnings(\"ignore\", category=UserWarning)"
   ]
  },
  {
   "cell_type": "code",
   "execution_count": 3,
   "metadata": {},
   "outputs": [],
   "source": [
    "''' Method: measure_model\n",
    "    Purpose: output metrics about the selected model to allow model selection\n",
    "    Parameters:\n",
    "        best_model_params_info (string) - a string telling about the hyperparameters, solver, etc. as appropriate\n",
    "        model_accuracy (double) - a numeric value having the accuracy of the passed model\n",
    "        df_y_test (dataframe) - a dataframe holding the actual y values used to test\n",
    "        dt_test_predictions (dataframe) - a dataframe containing the predicted y values to calculate scores\n",
    "'''\n",
    "def measure_model(best_model_params_info, model_accuracy, df_y_test, df_test_predictions):\n",
    "    # Print the best model info\n",
    "    print(\"Best model: {} , accuracy {}\".format(best_model_params_info, \"{:.4f}\".format(model_accuracy)))\n",
    "    print(\"MAE: {}, AUC: {}\".format(mean_absolute_error(df_y_test, df_test_predictions), \n",
    "                                       roc_auc_score(df_y_test,df_test_predictions)))\n",
    "    print(\"Precision: {}, Recall: {}\".format(precision_score(df_y_test, df_test_predictions), \n",
    "                                       recall_score(df_y_test,df_test_predictions)))    \n",
    "    # Print the confusion matrix for the best model\n",
    "    print(\"Model Confusion Matrix:\\n\", confusion_matrix(df_y_test, df_test_predictions))\n",
    "    print(\"Train data F1-Score for class '1':\", f1_score(df_y_test, df_test_predictions, pos_label=1))\n",
    "    print(\"Train data F1-Score for class '0':\", f1_score(df_y_test, df_test_predictions, pos_label=0))\n",
    "    \n"
   ]
  },
  {
   "cell_type": "markdown",
   "metadata": {},
   "source": [
    "### Create a few collections to capture the info on our different models\n",
    "\n",
    "To explore the accuracies of multiple model hyperparameters I'll be training multiple models and keeping the model from each type of classifier that has the highest accuracy.  I suspect there's an easier way to accomplish this but this is what I can do at this point.\n"
   ]
  },
  {
   "cell_type": "code",
   "execution_count": 4,
   "metadata": {},
   "outputs": [],
   "source": [
    "# collections we'll use for our best of each type of model\n",
    "best_models = []                    # List of model instances that are our best for final evaluation\n",
    "model_accuracies = []               # The accuracies of our best models in a key-value dictionary"
   ]
  },
  {
   "cell_type": "markdown",
   "metadata": {},
   "source": [
    "Here I'll load the data into an initial dataframe to be used for exploration and the start of preprocessing.\n"
   ]
  },
  {
   "cell_type": "code",
   "execution_count": 5,
   "metadata": {},
   "outputs": [
    {
     "data": {
      "text/plain": [
       "(39073, 16)"
      ]
     },
     "execution_count": 5,
     "metadata": {},
     "output_type": "execute_result"
    }
   ],
   "source": [
    "# Import the csv training dataset to a pandas dataframe\n",
    "# The dataset is expected in the same directory as this notebook\n",
    "#   under a subfolder path datasets/\n",
    "data_train = pd.read_csv('datasets/train.csv')\n",
    "# Show the shape of the dataset\n",
    "data_train.shape\n"
   ]
  },
  {
   "cell_type": "markdown",
   "metadata": {},
   "source": [
    "### Exploratory Data Analysis\n",
    "\n",
    "Output the first 5 rows of the data to see the general character and nature of the data like missing values, obvious dirty data, features with very large ranges, etc."
   ]
  },
  {
   "cell_type": "code",
   "execution_count": 6,
   "metadata": {},
   "outputs": [
    {
     "data": {
      "text/html": [
       "<div>\n",
       "<style scoped>\n",
       "    .dataframe tbody tr th:only-of-type {\n",
       "        vertical-align: middle;\n",
       "    }\n",
       "\n",
       "    .dataframe tbody tr th {\n",
       "        vertical-align: top;\n",
       "    }\n",
       "\n",
       "    .dataframe thead th {\n",
       "        text-align: right;\n",
       "    }\n",
       "</style>\n",
       "<table border=\"1\" class=\"dataframe\">\n",
       "  <thead>\n",
       "    <tr style=\"text-align: right;\">\n",
       "      <th></th>\n",
       "      <th>age</th>\n",
       "      <th>workclass</th>\n",
       "      <th>fnlwgt</th>\n",
       "      <th>education</th>\n",
       "      <th>educational-num</th>\n",
       "      <th>marital-status</th>\n",
       "      <th>occupation</th>\n",
       "      <th>relationship</th>\n",
       "      <th>race</th>\n",
       "      <th>gender</th>\n",
       "      <th>capital-gain</th>\n",
       "      <th>capital-loss</th>\n",
       "      <th>hours-per-week</th>\n",
       "      <th>native-country</th>\n",
       "      <th>income</th>\n",
       "      <th>id</th>\n",
       "    </tr>\n",
       "  </thead>\n",
       "  <tbody>\n",
       "    <tr>\n",
       "      <th>0</th>\n",
       "      <td>78</td>\n",
       "      <td>Private</td>\n",
       "      <td>111189</td>\n",
       "      <td>7th-8th</td>\n",
       "      <td>4</td>\n",
       "      <td>Never-married</td>\n",
       "      <td>Machine-op-inspct</td>\n",
       "      <td>Not-in-family</td>\n",
       "      <td>White</td>\n",
       "      <td>Female</td>\n",
       "      <td>0</td>\n",
       "      <td>0</td>\n",
       "      <td>35</td>\n",
       "      <td>Dominican-Republic</td>\n",
       "      <td>0</td>\n",
       "      <td>26052</td>\n",
       "    </tr>\n",
       "    <tr>\n",
       "      <th>1</th>\n",
       "      <td>49</td>\n",
       "      <td>Self-emp-inc</td>\n",
       "      <td>122066</td>\n",
       "      <td>Some-college</td>\n",
       "      <td>10</td>\n",
       "      <td>Divorced</td>\n",
       "      <td>Sales</td>\n",
       "      <td>Not-in-family</td>\n",
       "      <td>White</td>\n",
       "      <td>Male</td>\n",
       "      <td>0</td>\n",
       "      <td>0</td>\n",
       "      <td>25</td>\n",
       "      <td>United-States</td>\n",
       "      <td>0</td>\n",
       "      <td>47049</td>\n",
       "    </tr>\n",
       "    <tr>\n",
       "      <th>2</th>\n",
       "      <td>62</td>\n",
       "      <td>Self-emp-not-inc</td>\n",
       "      <td>168682</td>\n",
       "      <td>7th-8th</td>\n",
       "      <td>4</td>\n",
       "      <td>Married-civ-spouse</td>\n",
       "      <td>Sales</td>\n",
       "      <td>Husband</td>\n",
       "      <td>White</td>\n",
       "      <td>Male</td>\n",
       "      <td>0</td>\n",
       "      <td>0</td>\n",
       "      <td>5</td>\n",
       "      <td>United-States</td>\n",
       "      <td>0</td>\n",
       "      <td>33915</td>\n",
       "    </tr>\n",
       "    <tr>\n",
       "      <th>3</th>\n",
       "      <td>18</td>\n",
       "      <td>Private</td>\n",
       "      <td>110230</td>\n",
       "      <td>10th</td>\n",
       "      <td>6</td>\n",
       "      <td>Never-married</td>\n",
       "      <td>Other-service</td>\n",
       "      <td>Own-child</td>\n",
       "      <td>White</td>\n",
       "      <td>Male</td>\n",
       "      <td>0</td>\n",
       "      <td>0</td>\n",
       "      <td>11</td>\n",
       "      <td>United-States</td>\n",
       "      <td>0</td>\n",
       "      <td>22132</td>\n",
       "    </tr>\n",
       "    <tr>\n",
       "      <th>4</th>\n",
       "      <td>40</td>\n",
       "      <td>Private</td>\n",
       "      <td>373050</td>\n",
       "      <td>12th</td>\n",
       "      <td>8</td>\n",
       "      <td>Married-civ-spouse</td>\n",
       "      <td>Other-service</td>\n",
       "      <td>Husband</td>\n",
       "      <td>White</td>\n",
       "      <td>Male</td>\n",
       "      <td>0</td>\n",
       "      <td>0</td>\n",
       "      <td>40</td>\n",
       "      <td>?</td>\n",
       "      <td>0</td>\n",
       "      <td>46452</td>\n",
       "    </tr>\n",
       "  </tbody>\n",
       "</table>\n",
       "</div>"
      ],
      "text/plain": [
       "   age         workclass  fnlwgt     education  educational-num  \\\n",
       "0   78           Private  111189       7th-8th                4   \n",
       "1   49      Self-emp-inc  122066  Some-college               10   \n",
       "2   62  Self-emp-not-inc  168682       7th-8th                4   \n",
       "3   18           Private  110230          10th                6   \n",
       "4   40           Private  373050          12th                8   \n",
       "\n",
       "       marital-status         occupation   relationship   race  gender  \\\n",
       "0       Never-married  Machine-op-inspct  Not-in-family  White  Female   \n",
       "1            Divorced              Sales  Not-in-family  White    Male   \n",
       "2  Married-civ-spouse              Sales        Husband  White    Male   \n",
       "3       Never-married      Other-service      Own-child  White    Male   \n",
       "4  Married-civ-spouse      Other-service        Husband  White    Male   \n",
       "\n",
       "   capital-gain  capital-loss  hours-per-week      native-country  income  \\\n",
       "0             0             0              35  Dominican-Republic       0   \n",
       "1             0             0              25       United-States       0   \n",
       "2             0             0               5       United-States       0   \n",
       "3             0             0              11       United-States       0   \n",
       "4             0             0              40                   ?       0   \n",
       "\n",
       "      id  \n",
       "0  26052  \n",
       "1  47049  \n",
       "2  33915  \n",
       "3  22132  \n",
       "4  46452  "
      ]
     },
     "execution_count": 6,
     "metadata": {},
     "output_type": "execute_result"
    }
   ],
   "source": [
    "# Display a few rows from the training data\n",
    "data_train.head()"
   ]
  },
  {
   "cell_type": "markdown",
   "metadata": {},
   "source": [
    "I notice that there are a lot of columns to encode. Also, education appears to be ordinal but there's a numeric version of it as well, which should cancel out as having low information value when I apply PCA and/or LDA. The id columns needs to be removed as well.\n",
    "\n",
    "I also note that the \"income\" column is already discretized into two buckets with the bucket names already encoded as 0 and 1.  Per the documentation, column info:\n",
    "\n",
    "    income: Target variable column indicating the income level ('<=50K': 0 or '>50K': 1)."
   ]
  },
  {
   "cell_type": "markdown",
   "metadata": {},
   "source": [
    "### Look at the data to make sure we don't have null or missing data\n",
    "\n",
    "This will give the count of null values for each column to see if we need to handle missing data."
   ]
  },
  {
   "cell_type": "code",
   "execution_count": 7,
   "metadata": {},
   "outputs": [
    {
     "data": {
      "text/plain": [
       "age                0\n",
       "workclass          0\n",
       "fnlwgt             0\n",
       "education          0\n",
       "educational-num    0\n",
       "marital-status     0\n",
       "occupation         0\n",
       "relationship       0\n",
       "race               0\n",
       "gender             0\n",
       "capital-gain       0\n",
       "capital-loss       0\n",
       "hours-per-week     0\n",
       "native-country     0\n",
       "income             0\n",
       "id                 0\n",
       "dtype: int64"
      ]
     },
     "execution_count": 7,
     "metadata": {},
     "output_type": "execute_result"
    }
   ],
   "source": [
    "# Get the count of nulls per column\n",
    "# Turns out we don't have any\n",
    "data_train.isnull().sum()"
   ]
  },
  {
   "cell_type": "code",
   "execution_count": 8,
   "metadata": {},
   "outputs": [
    {
     "data": {
      "text/plain": [
       "age                0\n",
       "workclass          0\n",
       "fnlwgt             0\n",
       "education          0\n",
       "educational-num    0\n",
       "marital-status     0\n",
       "occupation         0\n",
       "relationship       0\n",
       "race               0\n",
       "gender             0\n",
       "capital-gain       0\n",
       "capital-loss       0\n",
       "hours-per-week     0\n",
       "native-country     0\n",
       "income             0\n",
       "id                 0\n",
       "dtype: int64"
      ]
     },
     "execution_count": 8,
     "metadata": {},
     "output_type": "execute_result"
    }
   ],
   "source": [
    "# Get the count of nulls per column\n",
    "# Also, no nulls here\n",
    "data_train.isna().sum()"
   ]
  },
  {
   "cell_type": "markdown",
   "metadata": {},
   "source": [
    "### I prefer to verify object data types. Not important here but at scale it definitely is.\n",
    "\n",
    "Sometimes numeric data come in as object, which can make lookups and indexing inefficient."
   ]
  },
  {
   "cell_type": "code",
   "execution_count": 9,
   "metadata": {},
   "outputs": [
    {
     "name": "stdout",
     "output_type": "stream",
     "text": [
      "<class 'pandas.core.frame.DataFrame'>\n",
      "RangeIndex: 39073 entries, 0 to 39072\n",
      "Data columns (total 16 columns):\n",
      " #   Column           Non-Null Count  Dtype \n",
      "---  ------           --------------  ----- \n",
      " 0   age              39073 non-null  int64 \n",
      " 1   workclass        39073 non-null  object\n",
      " 2   fnlwgt           39073 non-null  int64 \n",
      " 3   education        39073 non-null  object\n",
      " 4   educational-num  39073 non-null  int64 \n",
      " 5   marital-status   39073 non-null  object\n",
      " 6   occupation       39073 non-null  object\n",
      " 7   relationship     39073 non-null  object\n",
      " 8   race             39073 non-null  object\n",
      " 9   gender           39073 non-null  object\n",
      " 10  capital-gain     39073 non-null  int64 \n",
      " 11  capital-loss     39073 non-null  int64 \n",
      " 12  hours-per-week   39073 non-null  int64 \n",
      " 13  native-country   39073 non-null  object\n",
      " 14  income           39073 non-null  int64 \n",
      " 15  id               39073 non-null  int64 \n",
      "dtypes: int64(8), object(8)\n",
      "memory usage: 4.8+ MB\n"
     ]
    }
   ],
   "source": [
    "# Verify data types to see if there's a better explicit cast for any feature or if we need to encode anything\n",
    "data_train.info()\n"
   ]
  },
  {
   "cell_type": "markdown",
   "metadata": {},
   "source": [
    "\n",
    "Need to encode (index):\n",
    "> workclass - 1  \n",
    "> education - 3  \n",
    "> marital-status - 4  \n",
    "> occupation - 6  \n",
    "> relationship - 7  \n",
    "> race - 8  \n",
    "> gender - 9  \n",
    "> native-country - 13  \n",
    "    \n",
    "The other features need to be scaled (index 0, 2, 4, 10, 11, 12, 14, 15)  \n",
    "\n",
    "Income probably needs to be discretized (14)  \n",
    "\n",
    "ID needs to be removed from training (15)  \n",
    "\n"
   ]
  },
  {
   "cell_type": "markdown",
   "metadata": {},
   "source": [
    "### Get the statistics about the data and their distribution.\n",
    "\n",
    "I'm looking here for any columns with differing counts and any outrageous outliers."
   ]
  },
  {
   "cell_type": "code",
   "execution_count": 10,
   "metadata": {},
   "outputs": [
    {
     "data": {
      "text/html": [
       "<div>\n",
       "<style scoped>\n",
       "    .dataframe tbody tr th:only-of-type {\n",
       "        vertical-align: middle;\n",
       "    }\n",
       "\n",
       "    .dataframe tbody tr th {\n",
       "        vertical-align: top;\n",
       "    }\n",
       "\n",
       "    .dataframe thead th {\n",
       "        text-align: right;\n",
       "    }\n",
       "</style>\n",
       "<table border=\"1\" class=\"dataframe\">\n",
       "  <thead>\n",
       "    <tr style=\"text-align: right;\">\n",
       "      <th></th>\n",
       "      <th>age</th>\n",
       "      <th>fnlwgt</th>\n",
       "      <th>educational-num</th>\n",
       "      <th>capital-gain</th>\n",
       "      <th>capital-loss</th>\n",
       "      <th>hours-per-week</th>\n",
       "      <th>income</th>\n",
       "      <th>id</th>\n",
       "    </tr>\n",
       "  </thead>\n",
       "  <tbody>\n",
       "    <tr>\n",
       "      <th>count</th>\n",
       "      <td>39073.000000</td>\n",
       "      <td>3.907300e+04</td>\n",
       "      <td>39073.000000</td>\n",
       "      <td>39073.000000</td>\n",
       "      <td>39073.000000</td>\n",
       "      <td>39073.000000</td>\n",
       "      <td>39073.000000</td>\n",
       "      <td>39073.000000</td>\n",
       "    </tr>\n",
       "    <tr>\n",
       "      <th>mean</th>\n",
       "      <td>38.588207</td>\n",
       "      <td>1.900714e+05</td>\n",
       "      <td>10.072556</td>\n",
       "      <td>1067.195327</td>\n",
       "      <td>86.108796</td>\n",
       "      <td>40.390269</td>\n",
       "      <td>0.238144</td>\n",
       "      <td>24465.705372</td>\n",
       "    </tr>\n",
       "    <tr>\n",
       "      <th>std</th>\n",
       "      <td>13.695509</td>\n",
       "      <td>1.059839e+05</td>\n",
       "      <td>2.570352</td>\n",
       "      <td>7426.475044</td>\n",
       "      <td>399.342390</td>\n",
       "      <td>12.335446</td>\n",
       "      <td>0.425953</td>\n",
       "      <td>14072.213508</td>\n",
       "    </tr>\n",
       "    <tr>\n",
       "      <th>min</th>\n",
       "      <td>17.000000</td>\n",
       "      <td>1.349200e+04</td>\n",
       "      <td>1.000000</td>\n",
       "      <td>0.000000</td>\n",
       "      <td>0.000000</td>\n",
       "      <td>1.000000</td>\n",
       "      <td>0.000000</td>\n",
       "      <td>1.000000</td>\n",
       "    </tr>\n",
       "    <tr>\n",
       "      <th>25%</th>\n",
       "      <td>28.000000</td>\n",
       "      <td>1.175560e+05</td>\n",
       "      <td>9.000000</td>\n",
       "      <td>0.000000</td>\n",
       "      <td>0.000000</td>\n",
       "      <td>40.000000</td>\n",
       "      <td>0.000000</td>\n",
       "      <td>12319.000000</td>\n",
       "    </tr>\n",
       "    <tr>\n",
       "      <th>50%</th>\n",
       "      <td>37.000000</td>\n",
       "      <td>1.784780e+05</td>\n",
       "      <td>10.000000</td>\n",
       "      <td>0.000000</td>\n",
       "      <td>0.000000</td>\n",
       "      <td>40.000000</td>\n",
       "      <td>0.000000</td>\n",
       "      <td>24492.000000</td>\n",
       "    </tr>\n",
       "    <tr>\n",
       "      <th>75%</th>\n",
       "      <td>48.000000</td>\n",
       "      <td>2.383670e+05</td>\n",
       "      <td>12.000000</td>\n",
       "      <td>0.000000</td>\n",
       "      <td>0.000000</td>\n",
       "      <td>45.000000</td>\n",
       "      <td>0.000000</td>\n",
       "      <td>36610.000000</td>\n",
       "    </tr>\n",
       "    <tr>\n",
       "      <th>max</th>\n",
       "      <td>90.000000</td>\n",
       "      <td>1.490400e+06</td>\n",
       "      <td>16.000000</td>\n",
       "      <td>99999.000000</td>\n",
       "      <td>4356.000000</td>\n",
       "      <td>99.000000</td>\n",
       "      <td>1.000000</td>\n",
       "      <td>48842.000000</td>\n",
       "    </tr>\n",
       "  </tbody>\n",
       "</table>\n",
       "</div>"
      ],
      "text/plain": [
       "                age        fnlwgt  educational-num  capital-gain  \\\n",
       "count  39073.000000  3.907300e+04     39073.000000  39073.000000   \n",
       "mean      38.588207  1.900714e+05        10.072556   1067.195327   \n",
       "std       13.695509  1.059839e+05         2.570352   7426.475044   \n",
       "min       17.000000  1.349200e+04         1.000000      0.000000   \n",
       "25%       28.000000  1.175560e+05         9.000000      0.000000   \n",
       "50%       37.000000  1.784780e+05        10.000000      0.000000   \n",
       "75%       48.000000  2.383670e+05        12.000000      0.000000   \n",
       "max       90.000000  1.490400e+06        16.000000  99999.000000   \n",
       "\n",
       "       capital-loss  hours-per-week        income            id  \n",
       "count  39073.000000    39073.000000  39073.000000  39073.000000  \n",
       "mean      86.108796       40.390269      0.238144  24465.705372  \n",
       "std      399.342390       12.335446      0.425953  14072.213508  \n",
       "min        0.000000        1.000000      0.000000      1.000000  \n",
       "25%        0.000000       40.000000      0.000000  12319.000000  \n",
       "50%        0.000000       40.000000      0.000000  24492.000000  \n",
       "75%        0.000000       45.000000      0.000000  36610.000000  \n",
       "max     4356.000000       99.000000      1.000000  48842.000000  "
      ]
     },
     "execution_count": 10,
     "metadata": {},
     "output_type": "execute_result"
    }
   ],
   "source": [
    "# Display basic metrics about each feature, like count, mean, std, min/max, and IQR\n",
    "data_train.describe()"
   ]
  },
  {
   "cell_type": "markdown",
   "metadata": {},
   "source": [
    "I see that some of the features, such as capital gain/loss have huge variability with the IQR being 0 but the max is 4356."
   ]
  },
  {
   "cell_type": "markdown",
   "metadata": {},
   "source": [
    "## Preprocessing"
   ]
  },
  {
   "cell_type": "markdown",
   "metadata": {},
   "source": [
    "### Adjust columns as needed\n",
    "\n",
    "1. Remove ID and make a dataframe of our target predictions. We need to remove income and ID from the training data. The former is the has no information and the latter is the value we're predicting."
   ]
  },
  {
   "cell_type": "code",
   "execution_count": 11,
   "metadata": {},
   "outputs": [],
   "source": [
    "# remove the result column from the input parameters\n",
    "# also remove the ID column. It carries no signal.\n",
    "X_train_without_label = data_train.drop('income', axis=1).drop('id', axis=1)\n",
    "\n",
    "# Assign the variable we're targeting for the input data\n",
    "y_values = data_train['income']      # assign the income continuous variable we'll discretize\n"
   ]
  },
  {
   "cell_type": "markdown",
   "metadata": {},
   "source": [
    "2. Encode categorical values - I'll use the ColumnTransformer to encode multiple columns here"
   ]
  },
  {
   "cell_type": "markdown",
   "metadata": {},
   "source": [
    "### Split and scale the data\n",
    "\n",
    "Here I'll be splitting the data to be 70% training set, 30% test set. I then scale the data using the Standard Scaler to make all the data within the same range having 0 as the mean and standard deviation of 1."
   ]
  },
  {
   "cell_type": "code",
   "execution_count": 12,
   "metadata": {},
   "outputs": [],
   "source": [
    "# Do train test split\n",
    "X_train, X_test, y_train, y_test =    train_test_split(X_train_without_label, y_values,\n",
    "    test_size=0.3, \n",
    "    random_state=17)"
   ]
  },
  {
   "cell_type": "code",
   "execution_count": 13,
   "metadata": {},
   "outputs": [
    {
     "data": {
      "text/plain": [
       "107"
      ]
     },
     "execution_count": 13,
     "metadata": {},
     "output_type": "execute_result"
    }
   ],
   "source": [
    "# Make a list of string categorical cols we need to encode\n",
    "categorical_features = ['workclass', 'education', 'marital-status', 'occupation', 'relationship', 'race', 'gender', 'native-country']\n",
    "# Make a list of features we need to scale\n",
    "numeric_features = ['age', 'fnlwgt', 'capital-gain', 'capital-loss', 'hours-per-week']\n",
    "\n",
    "ohe = OneHotEncoder()           # creating a one hot encoder to do our column transforms\n",
    "ss = StandardScaler()           # creating a scaler for transforming\n",
    "\n",
    "feature_encoder = ColumnTransformer(\n",
    "    transformers = [('onehot', ohe, categorical_features), \n",
    "                    ('scaler', ss, numeric_features)],\n",
    "    remainder = 'passthrough'\n",
    ")\n",
    "\n",
    "X_train_std = feature_encoder.fit_transform(X_train)\n",
    "X_test_std = feature_encoder.transform(X_test)\n",
    "\n",
    "# Here I'm not specifying the number of components.\n",
    "# I want to chart and see how many to choose\n",
    "pca = PCA()\n",
    "X_train_pca = pca.fit_transform(X_train_std)\n",
    "X_test_pca = pca.fit(X_test_std)\n",
    "pca.explained_variance_ratio_\n",
    "\n",
    "X_train_pca.shape[1]\n",
    "#df_transformed = pd.DataFrame(\n",
    "#    X_transformed,\n",
    "#    columns=feature_encoder.get_feature_names_out()\n",
    "#)\n",
    "#X_test_clean = feature_encoder.fit(X_test)\n",
    "\n",
    "#df_transformed.head()"
   ]
  },
  {
   "cell_type": "code",
   "execution_count": 14,
   "metadata": {},
   "outputs": [
    {
     "data": {
      "image/png": "[encoded data removed]",
      "text/plain": [
       "<Figure size 640x480 with 1 Axes>"
      ]
     },
     "metadata": {},
     "output_type": "display_data"
    }
   ],
   "source": [
    "plt.bar(range(1, 108), pca.explained_variance_ratio_, align='center')\n",
    "plt.step(range(1, 108), np.cumsum(pca.explained_variance_ratio_), where='mid')\n",
    "plt.ylabel('Explained variance ratio')\n",
    "plt.xlabel('Principal components')\n",
    "\n",
    "plt.show()"
   ]
  },
  {
   "cell_type": "markdown",
   "metadata": {},
   "source": [
    "It appears that we can do a reasonable job of training with just 12 components so let's set that.  I'll compare this at the end of the notebook with our selected model on the original train/test set to see how much PCA improved it to know if I went wrong with my choice of components."
   ]
  },
  {
   "cell_type": "code",
   "execution_count": 15,
   "metadata": {},
   "outputs": [],
   "source": [
    "# Now I will select 12 principal components\n",
    "pca = PCA(n_components=12)\n",
    "X_train_pca = pca.fit_transform(X_train_std)\n",
    "X_test_pca = pca.transform(X_test_std)"
   ]
  },
  {
   "cell_type": "markdown",
   "metadata": {},
   "source": [
    "## Logistic Regression Train and Test\n",
    "\n",
    "I'm looping through hyperparameters and training multiple models, keeping the \"best\" based on accuracy. The secondary consideration is that I will prefer the lowest C value as lower C values make simpler models.\n",
    "\n",
    "This model assumes linearity in independent variables and performs well if the data are linearly separable. It'll also give use proababilities on the class predictions."
   ]
  },
  {
   "cell_type": "code",
   "execution_count": 16,
   "metadata": {},
   "outputs": [
    {
     "name": "stdout",
     "output_type": "stream",
     "text": [
      "Logistic Regression (solver=lbfgs\tscore=0.8386\tauc=0.7406\tf1=0.6213\n",
      "Logistic Regression (solver=lbfgs\tscore=0.8386\tauc=0.7406\tf1=0.6213\n",
      "Logistic Regression (solver=lbfgs\tscore=0.8386\tauc=0.7406\tf1=0.6213\n",
      "Logistic Regression (solver=lbfgs\tscore=0.8386\tauc=0.7406\tf1=0.6213\n",
      "Logistic Regression (solver=lbfgs\tscore=0.8384\tauc=0.7403\tf1=0.6207\n",
      "Logistic Regression (solver=lbfgs\tscore=0.8384\tauc=0.7400\tf1=0.6204\n",
      "Logistic Regression (solver=lbfgs\tscore=0.8383\tauc=0.7394\tf1=0.6196\n",
      "Logistic Regression (solver=lbfgs\tscore=0.8354\tauc=0.7316\tf1=0.6077\n",
      "Logistic Regression (solver=lbfgs\tscore=0.8279\tauc=0.7019\tf1=0.5616\n",
      "Logistic Regression (solver=lbfgs\tscore=0.8009\tauc=0.5977\tf1=0.3331\n",
      "Logistic Regression (solver=liblinear\tscore=0.8385\tauc=0.7406\tf1=0.6212\n",
      "Logistic Regression (solver=liblinear\tscore=0.8385\tauc=0.7406\tf1=0.6212\n",
      "Logistic Regression (solver=liblinear\tscore=0.8385\tauc=0.7406\tf1=0.6212\n",
      "Logistic Regression (solver=liblinear\tscore=0.8386\tauc=0.7406\tf1=0.6213\n",
      "Logistic Regression (solver=liblinear\tscore=0.8386\tauc=0.7406\tf1=0.6213\n",
      "Logistic Regression (solver=liblinear\tscore=0.8385\tauc=0.7402\tf1=0.6207\n",
      "Logistic Regression (solver=liblinear\tscore=0.8383\tauc=0.7396\tf1=0.6197\n",
      "Logistic Regression (solver=liblinear\tscore=0.8365\tauc=0.7354\tf1=0.6134\n",
      "Logistic Regression (solver=liblinear\tscore=0.8309\tauc=0.7257\tf1=0.5975\n",
      "Logistic Regression (solver=liblinear\tscore=0.8069\tauc=0.7287\tf1=0.5894\n",
      "Logistic Regression (solver=newton-cg\tscore=0.8384\tauc=0.7404\tf1=0.6209\n",
      "Logistic Regression (solver=newton-cg\tscore=0.8384\tauc=0.7404\tf1=0.6209\n",
      "Logistic Regression (solver=newton-cg\tscore=0.8385\tauc=0.7406\tf1=0.6212\n",
      "Logistic Regression (solver=newton-cg\tscore=0.8385\tauc=0.7406\tf1=0.6212\n",
      "Logistic Regression (solver=newton-cg\tscore=0.8386\tauc=0.7404\tf1=0.6210\n",
      "Logistic Regression (solver=newton-cg\tscore=0.8385\tauc=0.7402\tf1=0.6207\n",
      "Logistic Regression (solver=newton-cg\tscore=0.8383\tauc=0.7396\tf1=0.6197\n",
      "Logistic Regression (solver=newton-cg\tscore=0.8354\tauc=0.7314\tf1=0.6076\n",
      "Logistic Regression (solver=newton-cg\tscore=0.8279\tauc=0.7019\tf1=0.5616\n",
      "Logistic Regression (solver=newton-cg\tscore=0.8010\tauc=0.5979\tf1=0.3336\n",
      "Logistic Regression (solver=newton-cholesky\tscore=0.8385\tauc=0.7406\tf1=0.6212\n",
      "Logistic Regression (solver=newton-cholesky\tscore=0.8385\tauc=0.7406\tf1=0.6212\n",
      "Logistic Regression (solver=newton-cholesky\tscore=0.8385\tauc=0.7406\tf1=0.6212\n",
      "Logistic Regression (solver=newton-cholesky\tscore=0.8386\tauc=0.7404\tf1=0.6210\n",
      "Logistic Regression (solver=newton-cholesky\tscore=0.8386\tauc=0.7404\tf1=0.6210\n",
      "Logistic Regression (solver=newton-cholesky\tscore=0.8385\tauc=0.7402\tf1=0.6207\n",
      "Logistic Regression (solver=newton-cholesky\tscore=0.8383\tauc=0.7396\tf1=0.6199\n",
      "Logistic Regression (solver=newton-cholesky\tscore=0.8354\tauc=0.7316\tf1=0.6078\n",
      "Logistic Regression (solver=newton-cholesky\tscore=0.8279\tauc=0.7019\tf1=0.5616\n",
      "Logistic Regression (solver=newton-cholesky\tscore=0.8009\tauc=0.5977\tf1=0.3331\n",
      "Logistic Regression (solver=sag\tscore=0.8385\tauc=0.7406\tf1=0.6212\n",
      "Logistic Regression (solver=sag\tscore=0.8385\tauc=0.7406\tf1=0.6212\n",
      "Logistic Regression (solver=sag\tscore=0.8385\tauc=0.7406\tf1=0.6212\n",
      "Logistic Regression (solver=sag\tscore=0.8386\tauc=0.7406\tf1=0.6213\n",
      "Logistic Regression (solver=sag\tscore=0.8385\tauc=0.7403\tf1=0.6209\n",
      "Logistic Regression (solver=sag\tscore=0.8385\tauc=0.7402\tf1=0.6207\n",
      "Logistic Regression (solver=sag\tscore=0.8383\tauc=0.7396\tf1=0.6197\n",
      "Logistic Regression (solver=sag\tscore=0.8354\tauc=0.7316\tf1=0.6078\n",
      "Logistic Regression (solver=sag\tscore=0.8279\tauc=0.7019\tf1=0.5616\n",
      "Logistic Regression (solver=sag\tscore=0.8009\tauc=0.5977\tf1=0.3331\n",
      "Logistic Regression (solver=saga\tscore=0.8385\tauc=0.7406\tf1=0.6212\n",
      "Logistic Regression (solver=saga\tscore=0.8385\tauc=0.7406\tf1=0.6212\n",
      "Logistic Regression (solver=saga\tscore=0.8385\tauc=0.7406\tf1=0.6212\n",
      "Logistic Regression (solver=saga\tscore=0.8386\tauc=0.7406\tf1=0.6213\n",
      "Logistic Regression (solver=saga\tscore=0.8385\tauc=0.7403\tf1=0.6209\n",
      "Logistic Regression (solver=saga\tscore=0.8385\tauc=0.7402\tf1=0.6207\n",
      "Logistic Regression (solver=saga\tscore=0.8383\tauc=0.7396\tf1=0.6199\n",
      "Logistic Regression (solver=saga\tscore=0.8354\tauc=0.7316\tf1=0.6078\n",
      "Logistic Regression (solver=saga\tscore=0.8279\tauc=0.7019\tf1=0.5616\n",
      "Logistic Regression (solver=saga\tscore=0.8009\tauc=0.5977\tf1=0.3331\n"
     ]
    }
   ],
   "source": [
    "# In a loop over several values, train an SVM with different C values and capture the accuracies\n",
    "# We prefer lower C for better power so we'll only update if accuracy is higher and C lower\n",
    "\n",
    "solvers = ['lbfgs', 'liblinear', 'newton-cg', 'newton-cholesky', 'sag', 'saga']\n",
    "cs = [5.0, 3.0, 2.0, 1.0, 0.75, 0.5, 0.1, 0.01, 0.001, 0.0001]  # C values to try\n",
    "\n",
    "# I'll also keep track of the highest accuracy for the lowest C as our \"best\" model\n",
    "lr_highest_accuracy=0\n",
    "lr_lowest_c=1000.0\n",
    "\n",
    "# Try all SVM kernels\n",
    "for solver in solvers:\n",
    "    # Try the range of C values\n",
    "    for c in cs:\n",
    "        # Initialize and train the SVM model\n",
    "        logreg_model = LogisticRegression(solver=solver, C=c, random_state = 17)\n",
    "        logreg_model.fit(X_train_pca, y_train)\n",
    "        \n",
    "        # Collect info on training results if desired\n",
    "        # model_train_score = logreg_model.score(X_train_scaled, y_train)                    # get the model accuracy\n",
    "        # print(\"{}\\t{}\".format(\"Logistic Regression (solver={})\".format(solver), \"{:.4f}\".format(model_test_score)))\n",
    "            \n",
    "        # Make predictions using training data\n",
    "        y_pred = logreg_model.predict(X_test_pca)\n",
    "        model_test_score = accuracy_score(y_test, y_pred)\n",
    "        model_auc = roc_auc_score(y_test, y_pred)\n",
    "        model_f1 = f1_score(y_test, y_pred)\n",
    "\n",
    "        # Print the accuracies for each of the model params so far.   \n",
    "        print(\"Logistic Regression (solver={}\\tscore={}\\tauc={}\\tf1={}\".format(solver, \"{:.4f}\".format(model_test_score),\n",
    "                                  \"{:.4f}\".format(model_auc), \"{:.4f}\".format(model_f1)))\n",
    "            \n",
    "        # we want the lowest C for better generalization so only keep\n",
    "        #   accuracy if it's better but C is lower\n",
    "        if model_test_score >= lr_highest_accuracy: # we're in a list with decreasing values so don't need to check C\n",
    "            test_predictions = y_pred                   # store test predictions\n",
    "            lr_lowest_c = c                             # store the lowest C\n",
    "            lr_best_model = logreg_model                # store the best model\n",
    "            lr_best_solver = solver                     # store the best solver\n",
    "            lr_highest_accuracy = model_test_score       # update our highest score\n",
    "\n",
    "best_models.append(lr_best_model)                       # add to our \"best model\" collection      \n",
    "model_accuracies.append(lr_highest_accuracy)                # add the accuracy      "
   ]
  },
  {
   "cell_type": "code",
   "execution_count": 17,
   "metadata": {},
   "outputs": [
    {
     "name": "stdout",
     "output_type": "stream",
     "text": [
      "Best model: saga solver, c 0.0001 , accuracy 0.8386\n",
      "MAE: 0.1614059034294489, AUC: 0.7406327699944444\n",
      "Precision: 0.7096479195244627, Recall: 0.5525097899608401\n",
      "Model Confusion Matrix:\n",
      " [[8278  635]\n",
      " [1257 1552]]\n",
      "Train data F1-Score for class '1': 0.6212970376301041\n",
      "Train data F1-Score for class '0': 0.897441457068517\n"
     ]
    }
   ],
   "source": [
    "# Print the best model info\n",
    "model_param_info =\"{} solver, c {}\".format(lr_best_solver, c, \"{:.4f}\")\n",
    "\n",
    "measure_model(model_param_info, lr_highest_accuracy, y_test, test_predictions)\n"
   ]
  },
  {
   "cell_type": "markdown",
   "metadata": {},
   "source": [
    "## SVM Train and Test\n",
    "\n",
    "As with Logistic Regression, looping to train multiple models, keeping the one with the highest accuracy for the lowest C value.  C value again we prefer lower C as it makes for simpler models.\n",
    "\n",
    "This model will be computationally more expensive than the others, especially since I'm testing multiple C values on all kernels. The algorithm is more flexible in its ability to model both linear and non-linear data."
   ]
  },
  {
   "cell_type": "code",
   "execution_count": null,
   "metadata": {},
   "outputs": [
    {
     "name": "stdout",
     "output_type": "stream",
     "text": [
      "SVM kernel=linear, C=5.0, score=0.8416, aud=0.7438, f1=0.6272\n",
      "SVM kernel=linear, C=3.0, score=0.8416, aud=0.7438, f1=0.6272\n"
     ]
    }
   ],
   "source": [
    "# In a loop over several values, train an SVM with different C values and capture the accuracies\n",
    "# We prefer lower C for better power so we'll only update if accuracy is higher and C lower\n",
    "cs = [5.0, 3.0, 2.0, 1.0, 0.75, 0.5, 0.1, 0.01, 0.001, 0.0001]  # C values to try\n",
    "kernels = ['linear', 'rbf', 'poly', 'sigmoid']\n",
    "\n",
    "# I'll also keep track of the highest accuracy for the highest eta as our \"best\" model\n",
    "svm_highest_accuracy=0\n",
    "svm_lowest_c=1000\n",
    "\n",
    "# Try all SVM kernels\n",
    "for kernel in kernels:\n",
    "    # Loop through C values largest to smallest, train and test each\n",
    "    for c in cs:\n",
    "        # Initialize and train the SVM model\n",
    "        linear_svm = SVC(kernel=kernel, C=c, random_state=17)\n",
    "        linear_svm.fit(X_train_pca, y_train)\n",
    "        \n",
    "        # Collect info on training results if desired\n",
    "        # model_train_score = linear_svm.score(X_train_scaled, y_train)                    # get the model accuracy\n",
    "        # print(\"{}\\t{}\".format(\"SVM Train (kernel={}, C={})\".format(kernel, c), \"{:.4f}\".format(model_test_score)))\n",
    "            \n",
    "        # Make predictions using training data\n",
    "        y_pred = linear_svm.predict(X_test_pca)\n",
    "        model_test_score = accuracy_score(y_test, y_pred)\n",
    "        model_auc = roc_auc_score(y_test, y_pred)\n",
    "        model_f1 = f1_score(y_test, y_pred)\n",
    "\n",
    "        # Print the accuracies for each of the model params so far.   \n",
    "        print(\"SVM kernel={}, C={}, score={}, auc={}, f1={}\".format(kernel, c, \"{:.4f}\".format(model_test_score),\n",
    "                                  \"{:.4f}\".format(model_auc), \"{:.4f}\".format(model_f1)))\n",
    "            \n",
    "        # we want the lowest C for better generalization so only keep\n",
    "        #   accuracy if it's better but C is lower\n",
    "        if model_test_score >= svm_highest_accuracy: # we're in a list with decreasing values so don't need to check C\n",
    "            svm_lowest_c = c                            # store lowest C\n",
    "            test_predictions = y_pred                   # store test predictions\n",
    "            svm_best_model = linear_svm                 # store the best model\n",
    "            svm_best_kernel = kernel                    # store the best kernel\n",
    "            svm_highest_accuracy = model_test_score     # update our highest score\n",
    "\n",
    "best_models.append(svm_best_model)                      # add to our \"best model\" collection   \n",
    "model_accuracies.append(svm_highest_accuracy)           # add the accuracy"
   ]
  },
  {
   "cell_type": "code",
   "execution_count": null,
   "metadata": {},
   "outputs": [
    {
     "name": "stdout",
     "output_type": "stream",
     "text": [
      "Best model: rbf kernel, C 5.0 , accuracy 0.8497\n",
      "MAE: 0.15031564579423307, AUC: 0.7473159812286141\n",
      "Precision: 0.7557401074743527, Recall: 0.5507297970808117\n",
      "Model Confusion Matrix:\n",
      " [[8413  500]\n",
      " [1262 1547]]\n",
      "Train data F1-Score for class '1': 0.6371499176276771\n",
      "Train data F1-Score for class '0': 0.9052076608564665\n"
     ]
    }
   ],
   "source": [
    "# Print the best model info\n",
    "model_param_info =\"{} kernel, C {}\".format(svm_best_kernel, svm_lowest_c, \"{:.4f}\")\n",
    "measure_model(model_param_info, svm_highest_accuracy, y_test, test_predictions)"
   ]
  },
  {
   "cell_type": "markdown",
   "metadata": {},
   "source": [
    "## Decision Trees Train and Test\n",
    "\n",
    "With Decision Trees we're testing different splitting algorithms as well as model depth keeping the one with the highest accuracy and the lowest depth.  Lowest depth is selected as it makes for the simpler model.\n",
    "\n",
    "This algorithm should be the easiest to interpret and captures non-linear relationships but it's prone to overfitting.  It's also at risk of creating biased trees if the classes are imbalanced but the classes here are relatively equally represented."
   ]
  },
  {
   "cell_type": "code",
   "execution_count": null,
   "metadata": {},
   "outputs": [
    {
     "name": "stdout",
     "output_type": "stream",
     "text": [
      "Decision Tree (criterion=gini, depth=50)\t0.7917\t0.5977\t0.3331\n",
      "Decision Tree (criterion=gini, depth=49)\t0.7917\t0.5977\t0.3331\n",
      "Decision Tree (criterion=gini, depth=48)\t0.7917\t0.5977\t0.3331\n",
      "Decision Tree (criterion=gini, depth=47)\t0.7917\t0.5977\t0.3331\n",
      "Decision Tree (criterion=gini, depth=46)\t0.7917\t0.5977\t0.3331\n",
      "Decision Tree (criterion=gini, depth=45)\t0.7917\t0.5977\t0.3331\n",
      "Decision Tree (criterion=gini, depth=44)\t0.7917\t0.5977\t0.3331\n",
      "Decision Tree (criterion=gini, depth=43)\t0.7917\t0.5977\t0.3331\n",
      "Decision Tree (criterion=gini, depth=42)\t0.7917\t0.5977\t0.3331\n",
      "Decision Tree (criterion=gini, depth=41)\t0.7917\t0.5977\t0.3331\n",
      "Decision Tree (criterion=gini, depth=40)\t0.7917\t0.5977\t0.3331\n",
      "Decision Tree (criterion=gini, depth=39)\t0.7917\t0.5977\t0.3331\n",
      "Decision Tree (criterion=gini, depth=38)\t0.7917\t0.5977\t0.3331\n",
      "Decision Tree (criterion=gini, depth=37)\t0.7917\t0.5977\t0.3331\n",
      "Decision Tree (criterion=gini, depth=36)\t0.7917\t0.5977\t0.3331\n",
      "Decision Tree (criterion=gini, depth=35)\t0.7906\t0.5977\t0.3331\n",
      "Decision Tree (criterion=gini, depth=34)\t0.7886\t0.5977\t0.3331\n",
      "Decision Tree (criterion=gini, depth=33)\t0.7903\t0.5977\t0.3331\n",
      "Decision Tree (criterion=gini, depth=32)\t0.7893\t0.5977\t0.3331\n",
      "Decision Tree (criterion=gini, depth=31)\t0.7907\t0.5977\t0.3331\n",
      "Decision Tree (criterion=gini, depth=30)\t0.7913\t0.5977\t0.3331\n",
      "Decision Tree (criterion=gini, depth=29)\t0.7912\t0.5977\t0.3331\n",
      "Decision Tree (criterion=gini, depth=28)\t0.7897\t0.5977\t0.3331\n",
      "Decision Tree (criterion=gini, depth=27)\t0.7896\t0.5977\t0.3331\n",
      "Decision Tree (criterion=gini, depth=26)\t0.7883\t0.5977\t0.3331\n",
      "Decision Tree (criterion=gini, depth=25)\t0.7916\t0.5977\t0.3331\n",
      "Decision Tree (criterion=gini, depth=24)\t0.7953\t0.5977\t0.3331\n",
      "Decision Tree (criterion=gini, depth=23)\t0.7912\t0.5977\t0.3331\n",
      "Decision Tree (criterion=gini, depth=22)\t0.7895\t0.5977\t0.3331\n",
      "Decision Tree (criterion=gini, depth=21)\t0.7936\t0.5977\t0.3331\n",
      "Decision Tree (criterion=gini, depth=20)\t0.7957\t0.5977\t0.3331\n",
      "Decision Tree (criterion=gini, depth=19)\t0.7955\t0.5977\t0.3331\n",
      "Decision Tree (criterion=gini, depth=18)\t0.7954\t0.5977\t0.3331\n",
      "Decision Tree (criterion=gini, depth=17)\t0.7983\t0.5977\t0.3331\n",
      "Decision Tree (criterion=gini, depth=16)\t0.8000\t0.5977\t0.3331\n",
      "Decision Tree (criterion=gini, depth=15)\t0.8037\t0.5977\t0.3331\n",
      "Decision Tree (criterion=gini, depth=14)\t0.8121\t0.5977\t0.3331\n",
      "Decision Tree (criterion=gini, depth=13)\t0.8135\t0.5977\t0.3331\n",
      "Decision Tree (criterion=gini, depth=12)\t0.8199\t0.5977\t0.3331\n",
      "Decision Tree (criterion=gini, depth=11)\t0.8261\t0.5977\t0.3331\n",
      "Decision Tree (criterion=gini, depth=10)\t0.8258\t0.5977\t0.3331\n",
      "Decision Tree (criterion=gini, depth=9)\t0.8316\t0.5977\t0.3331\n",
      "Decision Tree (criterion=gini, depth=8)\t0.8341\t0.5977\t0.3331\n",
      "Decision Tree (criterion=gini, depth=7)\t0.8351\t0.5977\t0.3331\n",
      "Decision Tree (criterion=gini, depth=6)\t0.8318\t0.5977\t0.3331\n",
      "Decision Tree (criterion=gini, depth=5)\t0.8277\t0.5977\t0.3331\n",
      "Decision Tree (criterion=gini, depth=4)\t0.8207\t0.5977\t0.3331\n",
      "Decision Tree (criterion=gini, depth=3)\t0.8174\t0.5977\t0.3331\n",
      "Decision Tree (criterion=gini, depth=2)\t0.8142\t0.5977\t0.3331\n",
      "Decision Tree (criterion=entropy, depth=50)\t0.7947\t0.5977\t0.3331\n",
      "Decision Tree (criterion=entropy, depth=49)\t0.7947\t0.5977\t0.3331\n",
      "Decision Tree (criterion=entropy, depth=48)\t0.7947\t0.5977\t0.3331\n",
      "Decision Tree (criterion=entropy, depth=47)\t0.7944\t0.5977\t0.3331\n",
      "Decision Tree (criterion=entropy, depth=46)\t0.7961\t0.5977\t0.3331\n",
      "Decision Tree (criterion=entropy, depth=45)\t0.7952\t0.5977\t0.3331\n",
      "Decision Tree (criterion=entropy, depth=44)\t0.7959\t0.5977\t0.3331\n",
      "Decision Tree (criterion=entropy, depth=43)\t0.7959\t0.5977\t0.3331\n",
      "Decision Tree (criterion=entropy, depth=42)\t0.7960\t0.5977\t0.3331\n",
      "Decision Tree (criterion=entropy, depth=41)\t0.7944\t0.5977\t0.3331\n",
      "Decision Tree (criterion=entropy, depth=40)\t0.7945\t0.5977\t0.3331\n",
      "Decision Tree (criterion=entropy, depth=39)\t0.7943\t0.5977\t0.3331\n",
      "Decision Tree (criterion=entropy, depth=38)\t0.7960\t0.5977\t0.3331\n",
      "Decision Tree (criterion=entropy, depth=37)\t0.7965\t0.5977\t0.3331\n",
      "Decision Tree (criterion=entropy, depth=36)\t0.7954\t0.5977\t0.3331\n",
      "Decision Tree (criterion=entropy, depth=35)\t0.7961\t0.5977\t0.3331\n",
      "Decision Tree (criterion=entropy, depth=34)\t0.7980\t0.5977\t0.3331\n",
      "Decision Tree (criterion=entropy, depth=33)\t0.7965\t0.5977\t0.3331\n",
      "Decision Tree (criterion=entropy, depth=32)\t0.7954\t0.5977\t0.3331\n",
      "Decision Tree (criterion=entropy, depth=31)\t0.7959\t0.5977\t0.3331\n",
      "Decision Tree (criterion=entropy, depth=30)\t0.7954\t0.5977\t0.3331\n",
      "Decision Tree (criterion=entropy, depth=29)\t0.7951\t0.5977\t0.3331\n",
      "Decision Tree (criterion=entropy, depth=28)\t0.7959\t0.5977\t0.3331\n",
      "Decision Tree (criterion=entropy, depth=27)\t0.7975\t0.5977\t0.3331\n",
      "Decision Tree (criterion=entropy, depth=26)\t0.7959\t0.5977\t0.3331\n",
      "Decision Tree (criterion=entropy, depth=25)\t0.8007\t0.5977\t0.3331\n",
      "Decision Tree (criterion=entropy, depth=24)\t0.7961\t0.5977\t0.3331\n",
      "Decision Tree (criterion=entropy, depth=23)\t0.7988\t0.5977\t0.3331\n",
      "Decision Tree (criterion=entropy, depth=22)\t0.7994\t0.5977\t0.3331\n",
      "Decision Tree (criterion=entropy, depth=21)\t0.8023\t0.5977\t0.3331\n",
      "Decision Tree (criterion=entropy, depth=20)\t0.8013\t0.5977\t0.3331\n",
      "Decision Tree (criterion=entropy, depth=19)\t0.8012\t0.5977\t0.3331\n",
      "Decision Tree (criterion=entropy, depth=18)\t0.8052\t0.5977\t0.3331\n",
      "Decision Tree (criterion=entropy, depth=17)\t0.8065\t0.5977\t0.3331\n",
      "Decision Tree (criterion=entropy, depth=16)\t0.8086\t0.5977\t0.3331\n",
      "Decision Tree (criterion=entropy, depth=15)\t0.8096\t0.5977\t0.3331\n",
      "Decision Tree (criterion=entropy, depth=14)\t0.8151\t0.5977\t0.3331\n",
      "Decision Tree (criterion=entropy, depth=13)\t0.8168\t0.5977\t0.3331\n",
      "Decision Tree (criterion=entropy, depth=12)\t0.8197\t0.5977\t0.3331\n",
      "Decision Tree (criterion=entropy, depth=11)\t0.8226\t0.5977\t0.3331\n",
      "Decision Tree (criterion=entropy, depth=10)\t0.8286\t0.5977\t0.3331\n",
      "Decision Tree (criterion=entropy, depth=9)\t0.8330\t0.5977\t0.3331\n",
      "Decision Tree (criterion=entropy, depth=8)\t0.8336\t0.5977\t0.3331\n",
      "Decision Tree (criterion=entropy, depth=7)\t0.8369\t0.5977\t0.3331\n",
      "Decision Tree (criterion=entropy, depth=6)\t0.8313\t0.5977\t0.3331\n",
      "Decision Tree (criterion=entropy, depth=5)\t0.8245\t0.5977\t0.3331\n",
      "Decision Tree (criterion=entropy, depth=4)\t0.8133\t0.5977\t0.3331\n",
      "Decision Tree (criterion=entropy, depth=3)\t0.8163\t0.5977\t0.3331\n",
      "Decision Tree (criterion=entropy, depth=2)\t0.7997\t0.5977\t0.3331\n",
      "Decision Tree (criterion=log_loss, depth=50)\t0.7947\t0.5977\t0.3331\n",
      "Decision Tree (criterion=log_loss, depth=49)\t0.7947\t0.5977\t0.3331\n",
      "Decision Tree (criterion=log_loss, depth=48)\t0.7947\t0.5977\t0.3331\n",
      "Decision Tree (criterion=log_loss, depth=47)\t0.7944\t0.5977\t0.3331\n",
      "Decision Tree (criterion=log_loss, depth=46)\t0.7961\t0.5977\t0.3331\n",
      "Decision Tree (criterion=log_loss, depth=45)\t0.7952\t0.5977\t0.3331\n",
      "Decision Tree (criterion=log_loss, depth=44)\t0.7959\t0.5977\t0.3331\n",
      "Decision Tree (criterion=log_loss, depth=43)\t0.7959\t0.5977\t0.3331\n",
      "Decision Tree (criterion=log_loss, depth=42)\t0.7960\t0.5977\t0.3331\n",
      "Decision Tree (criterion=log_loss, depth=41)\t0.7944\t0.5977\t0.3331\n",
      "Decision Tree (criterion=log_loss, depth=40)\t0.7945\t0.5977\t0.3331\n",
      "Decision Tree (criterion=log_loss, depth=39)\t0.7943\t0.5977\t0.3331\n",
      "Decision Tree (criterion=log_loss, depth=38)\t0.7960\t0.5977\t0.3331\n",
      "Decision Tree (criterion=log_loss, depth=37)\t0.7965\t0.5977\t0.3331\n",
      "Decision Tree (criterion=log_loss, depth=36)\t0.7954\t0.5977\t0.3331\n",
      "Decision Tree (criterion=log_loss, depth=35)\t0.7961\t0.5977\t0.3331\n",
      "Decision Tree (criterion=log_loss, depth=34)\t0.7980\t0.5977\t0.3331\n",
      "Decision Tree (criterion=log_loss, depth=33)\t0.7965\t0.5977\t0.3331\n",
      "Decision Tree (criterion=log_loss, depth=32)\t0.7954\t0.5977\t0.3331\n",
      "Decision Tree (criterion=log_loss, depth=31)\t0.7959\t0.5977\t0.3331\n",
      "Decision Tree (criterion=log_loss, depth=30)\t0.7954\t0.5977\t0.3331\n",
      "Decision Tree (criterion=log_loss, depth=29)\t0.7951\t0.5977\t0.3331\n",
      "Decision Tree (criterion=log_loss, depth=28)\t0.7959\t0.5977\t0.3331\n",
      "Decision Tree (criterion=log_loss, depth=27)\t0.7975\t0.5977\t0.3331\n",
      "Decision Tree (criterion=log_loss, depth=26)\t0.7959\t0.5977\t0.3331\n",
      "Decision Tree (criterion=log_loss, depth=25)\t0.8007\t0.5977\t0.3331\n",
      "Decision Tree (criterion=log_loss, depth=24)\t0.7961\t0.5977\t0.3331\n",
      "Decision Tree (criterion=log_loss, depth=23)\t0.7988\t0.5977\t0.3331\n",
      "Decision Tree (criterion=log_loss, depth=22)\t0.7994\t0.5977\t0.3331\n",
      "Decision Tree (criterion=log_loss, depth=21)\t0.8023\t0.5977\t0.3331\n",
      "Decision Tree (criterion=log_loss, depth=20)\t0.8013\t0.5977\t0.3331\n",
      "Decision Tree (criterion=log_loss, depth=19)\t0.8012\t0.5977\t0.3331\n",
      "Decision Tree (criterion=log_loss, depth=18)\t0.8052\t0.5977\t0.3331\n",
      "Decision Tree (criterion=log_loss, depth=17)\t0.8065\t0.5977\t0.3331\n",
      "Decision Tree (criterion=log_loss, depth=16)\t0.8086\t0.5977\t0.3331\n",
      "Decision Tree (criterion=log_loss, depth=15)\t0.8096\t0.5977\t0.3331\n",
      "Decision Tree (criterion=log_loss, depth=14)\t0.8151\t0.5977\t0.3331\n",
      "Decision Tree (criterion=log_loss, depth=13)\t0.8168\t0.5977\t0.3331\n",
      "Decision Tree (criterion=log_loss, depth=12)\t0.8197\t0.5977\t0.3331\n",
      "Decision Tree (criterion=log_loss, depth=11)\t0.8226\t0.5977\t0.3331\n",
      "Decision Tree (criterion=log_loss, depth=10)\t0.8286\t0.5977\t0.3331\n",
      "Decision Tree (criterion=log_loss, depth=9)\t0.8330\t0.5977\t0.3331\n",
      "Decision Tree (criterion=log_loss, depth=8)\t0.8336\t0.5977\t0.3331\n",
      "Decision Tree (criterion=log_loss, depth=7)\t0.8369\t0.5977\t0.3331\n",
      "Decision Tree (criterion=log_loss, depth=6)\t0.8313\t0.5977\t0.3331\n",
      "Decision Tree (criterion=log_loss, depth=5)\t0.8245\t0.5977\t0.3331\n",
      "Decision Tree (criterion=log_loss, depth=4)\t0.8133\t0.5977\t0.3331\n",
      "Decision Tree (criterion=log_loss, depth=3)\t0.8163\t0.5977\t0.3331\n",
      "Decision Tree (criterion=log_loss, depth=2)\t0.7997\t0.5977\t0.3331\n"
     ]
    }
   ],
   "source": [
    "# In a loop over several values, train a decision tree with different split criteria and depths and capture the accuracies\n",
    "# We prefer lower C for better power so we'll only update if accuracy is higher and depth lower\n",
    "criteria = ['gini', 'entropy', 'log_loss']\n",
    "\n",
    "# I'll also keep track of the highest accuracy for the lowest depth as our \"best\" model\n",
    "dtree_highest_accuracy=0\n",
    "dtree_lowest_depth=1000\n",
    "dtree_best_criterion=''\n",
    "\n",
    "# Try all SVM kernels\n",
    "for criterion in criteria:\n",
    "    # Loop through depth values smallest to largest, train and test each\n",
    "    for depth in range(50, 1, -1):   # Allow up to depth 5 starting at 5 and down to 1\n",
    "        # Initialize and train the decision tree model\n",
    "        decision_tree = DecisionTreeClassifier(criterion=criterion, max_depth=depth, random_state=17)\n",
    "        decision_tree.fit(X_train_pca, y_train)\n",
    "        \n",
    "        # Collect info on training results if desired\n",
    "        # model_train_score = decision_tree.score(X_train_scaled, y_train)                    # get the model accuracy\n",
    "        # print(\"{}\\t{}\".format(\"Decision Tree Train (criterion={}, depth={})\".format(criterion, depth), \"{:.4f}\".format(model_test_score)))\n",
    "            \n",
    "        # Make predictions using training data\n",
    "        y_pred = decision_tree.predict(X_test_pca)\n",
    "        model_test_score = accuracy_score(y_test, y_pred)\n",
    "        model_auc = roc_auc_score(y_test, y_pred)\n",
    "        model_f1 = f1_score(y_test, y_pred)        \n",
    "\n",
    "        # Print the accuracies for each of the model params so far.   \n",
    "        print(\"Decision Tree (criterion={}, depth={}, score={}, auc={}, f1={})\".format(criterion, depth, \"{:.4f}\".format(model_test_score),\n",
    "                                  \"{:.4f}\".format(model_auc), \"{:.4f}\".format(model_f1)))\n",
    "            \n",
    "        # we want the lowest C for better generalization so only keep\n",
    "        #   accuracy if it's better but C is lower\n",
    "        if model_test_score >= dtree_highest_accuracy:\n",
    "            dtree_lowest_depth = depth              # store lowest depth\n",
    "            test_predictions = y_pred               # store test predictions\n",
    "            dtree_best_model = decision_tree        # store the best model\n",
    "            dtree_best_criterion = criterion        # store the best kernel\n",
    "            dtree_highest_accuracy = model_test_score   # update our highest score\n",
    "\n",
    "best_models.append(dtree_best_model)                # add to our \"best model\" collection\n",
    "model_accuracies.append(dtree_highest_accuracy)     # add the accuracy"
   ]
  },
  {
   "cell_type": "code",
   "execution_count": null,
   "metadata": {},
   "outputs": [
    {
     "name": "stdout",
     "output_type": "stream",
     "text": [
      "Best model: log_loss criterion, depth 7 , accuracy 0.8369\n",
      "MAE: 0.1631120969117898, AUC: 0.7325624304593548\n",
      "Precision: 0.7142857142857143, Recall: 0.5322178711285155\n",
      "Model Confusion Matrix:\n",
      " [[8315  598]\n",
      " [1314 1495]]\n",
      "Train data F1-Score for class '1': 0.6099551203590371\n",
      "Train data F1-Score for class '0': 0.8968827526696149\n"
     ]
    }
   ],
   "source": [
    "# Print the best model info\n",
    "model_param_info =\"{} criterion, depth {}\".format(dtree_best_criterion, dtree_lowest_depth)\n",
    "measure_model(model_param_info, dtree_highest_accuracy, y_test, test_predictions)"
   ]
  },
  {
   "cell_type": "markdown",
   "metadata": {},
   "source": [
    "## Random Forest Train and Test\n",
    "\n",
    "This is very much like Decision Trees except we're tuning splitting criteria as well as the number of estimators used.  We'll prefer fewer estimators for simpler models.\n",
    "\n",
    "The Random Forest algorithm is harder to interpret because it's an ensemble of decision trees but it's less likely to overfit. It can be harder to compute than a single or a few decision trees."
   ]
  },
  {
   "cell_type": "code",
   "execution_count": null,
   "metadata": {},
   "outputs": [
    {
     "name": "stdout",
     "output_type": "stream",
     "text": [
      "Random Forest Test (criterion=gini, estimators=500)\t0.8446\t0.5977\t0.3331\n",
      "Random Forest Test (criterion=gini, estimators=450)\t0.8449\t0.5977\t0.3331\n",
      "Random Forest Test (criterion=gini, estimators=400)\t0.8452\t0.5977\t0.3331\n",
      "Random Forest Test (criterion=gini, estimators=350)\t0.8451\t0.5977\t0.3331\n",
      "Random Forest Test (criterion=gini, estimators=300)\t0.8453\t0.5977\t0.3331\n",
      "Random Forest Test (criterion=gini, estimators=250)\t0.8451\t0.5977\t0.3331\n",
      "Random Forest Test (criterion=gini, estimators=200)\t0.8441\t0.5977\t0.3331\n",
      "Random Forest Test (criterion=gini, estimators=150)\t0.8435\t0.5977\t0.3331\n",
      "Random Forest Test (criterion=gini, estimators=100)\t0.8423\t0.5977\t0.3331\n",
      "Random Forest Test (criterion=entropy, estimators=500)\t0.8441\t0.5977\t0.3331\n",
      "Random Forest Test (criterion=entropy, estimators=450)\t0.8436\t0.5977\t0.3331\n",
      "Random Forest Test (criterion=entropy, estimators=400)\t0.8428\t0.5977\t0.3331\n",
      "Random Forest Test (criterion=entropy, estimators=350)\t0.8433\t0.5977\t0.3331\n",
      "Random Forest Test (criterion=entropy, estimators=300)\t0.8441\t0.5977\t0.3331\n",
      "Random Forest Test (criterion=entropy, estimators=250)\t0.8446\t0.5977\t0.3331\n",
      "Random Forest Test (criterion=entropy, estimators=200)\t0.8452\t0.5977\t0.3331\n",
      "Random Forest Test (criterion=entropy, estimators=150)\t0.8439\t0.5977\t0.3331\n",
      "Random Forest Test (criterion=entropy, estimators=100)\t0.8426\t0.5977\t0.3331\n",
      "Random Forest Test (criterion=log_loss, estimators=500)\t0.8441\t0.5977\t0.3331\n",
      "Random Forest Test (criterion=log_loss, estimators=450)\t0.8436\t0.5977\t0.3331\n",
      "Random Forest Test (criterion=log_loss, estimators=400)\t0.8428\t0.5977\t0.3331\n",
      "Random Forest Test (criterion=log_loss, estimators=350)\t0.8433\t0.5977\t0.3331\n",
      "Random Forest Test (criterion=log_loss, estimators=300)\t0.8441\t0.5977\t0.3331\n",
      "Random Forest Test (criterion=log_loss, estimators=250)\t0.8446\t0.5977\t0.3331\n",
      "Random Forest Test (criterion=log_loss, estimators=200)\t0.8452\t0.5977\t0.3331\n",
      "Random Forest Test (criterion=log_loss, estimators=150)\t0.8439\t0.5977\t0.3331\n",
      "Random Forest Test (criterion=log_loss, estimators=100)\t0.8426\t0.5977\t0.3331\n"
     ]
    }
   ],
   "source": [
    "# In a loop over several values, train a random forest with different split criteria and estimator count and capture the accuracies\n",
    "criteria = ['gini', 'entropy', 'log_loss']\n",
    "\n",
    "# I'll also keep track of the highest accuracy for the lowest number of estimators as our \"best\" model\n",
    "rforest_highest_accuracy=0\n",
    "rforest_lowest_estimators=1000\n",
    "rforest_best_criterion=''\n",
    "\n",
    "# Try all random forest split criteria\n",
    "for criterion in criteria:\n",
    "    # Loop through depth values smallest to largest, train and test each\n",
    "    for estimators in range(500, 50, -50):   # Allow up to 500 estimators decreasing by 50 each loop\n",
    "        # Initialize and train the decision tree model\n",
    "        random_forest = RandomForestClassifier(criterion=criterion, n_estimators=estimators, random_state=17)\n",
    "        random_forest.fit(X_train_pca, y_train)\n",
    "        \n",
    "        # Collect info on training results if desired\n",
    "        # model_train_score = random_forest.score(X_train_scaled, y_train)                    # get the model accuracy\n",
    "        # print(\"{}\\t{}\".format(\"Random Forest Train (criterion={}, estimators={})\".format(criterion, estimators), \"{:.4f}\".format(model_test_score)))\n",
    "            \n",
    "        # Make predictions using training data\n",
    "        y_pred = random_forest.predict(X_test_pca)\n",
    "        model_test_score = accuracy_score(y_test, y_pred)\n",
    "        model_auc = roc_auc_score(y_test, y_pred)\n",
    "        model_f1 = f1_score(y_test, y_pred)\n",
    "\n",
    "        # Print the accuracies for each of the model params so far.   \n",
    "        print(\"Random Forest Test (criterion={}, estimators={}, score={}, auc={}, f1={})\".format(criterion, estimators, \n",
    "              \"{:.4f}\".format(model_test_score), \"{:.4f}\".format(model_auc), \"{:.4f}\".format(model_f1)))\n",
    "            \n",
    "        # we want the lowest number of estimators for better generalization \n",
    "        if model_test_score >= rforest_highest_accuracy:\n",
    "            rforest_lowest_estimators = estimators  # store lowest number of estimators\n",
    "            test_predictions = y_pred               # store test predictions\n",
    "            rforest_best_model = random_forest      # store the best model\n",
    "            rforest_best_criterion = criterion      # store the best criterion\n",
    "            rforest_highest_accuracy = model_test_score # update our highest score\n",
    "            \n",
    "best_models.append(rforest_best_model)              # add to our \"best model\" collection        \n",
    "model_accuracies.append(rforest_highest_accuracy)   # add the accuracy    \n"
   ]
  },
  {
   "cell_type": "code",
   "execution_count": null,
   "metadata": {},
   "outputs": [
    {
     "name": "stdout",
     "output_type": "stream",
     "text": [
      "Best model: gini criterion, estimators 300 , accuracy 0.8453\n",
      "MAE: 0.15466643917420236, AUC: 0.7588393631615644\n",
      "Precision: 0.7133676092544987, Recall: 0.5927376290494838\n",
      "Model Confusion Matrix:\n",
      " [[8244  669]\n",
      " [1144 1665]]\n",
      "Train data F1-Score for class '1': 0.6474820143884892\n",
      "Train data F1-Score for class '0': 0.9009343751707557\n"
     ]
    }
   ],
   "source": [
    "# Print the best model info\n",
    "model_param_info =\"{} criterion, estimators {}\".format(rforest_best_criterion, rforest_lowest_estimators)\n",
    "measure_model(model_param_info, rforest_highest_accuracy, y_test, test_predictions)"
   ]
  },
  {
   "cell_type": "markdown",
   "metadata": {},
   "source": [
    "## KNN Train and Test\n",
    "\n",
    "This is simpler as I'm only tuning the number of neighbors and keeping the one with the highest accuracy. We'll prefer the model with the fewest neighbors.\n",
    "\n",
    "KNN, while computational a bit expensive is simple for this problem and doesn't appear to require much tuning."
   ]
  },
  {
   "cell_type": "code",
   "execution_count": null,
   "metadata": {},
   "outputs": [
    {
     "name": "stdout",
     "output_type": "stream",
     "text": [
      "KNN Test (neighbors=2)\t0.8179\t0.5977\t0.3331\n",
      "KNN Test (neighbors=3)\t0.8234\t0.5977\t0.3331\n",
      "KNN Test (neighbors=4)\t0.8280\t0.5977\t0.3331\n",
      "KNN Test (neighbors=5)\t0.8314\t0.5977\t0.3331\n",
      "KNN Test (neighbors=6)\t0.8296\t0.5977\t0.3331\n",
      "KNN Test (neighbors=7)\t0.8343\t0.5977\t0.3331\n",
      "KNN Test (neighbors=8)\t0.8357\t0.5977\t0.3331\n",
      "KNN Test (neighbors=9)\t0.8359\t0.5977\t0.3331\n",
      "KNN Test (neighbors=10)\t0.8375\t0.5977\t0.3331\n",
      "KNN Test (neighbors=11)\t0.8385\t0.5977\t0.3331\n",
      "KNN Test (neighbors=12)\t0.8396\t0.5977\t0.3331\n",
      "KNN Test (neighbors=13)\t0.8405\t0.5977\t0.3331\n",
      "KNN Test (neighbors=14)\t0.8412\t0.5977\t0.3331\n",
      "KNN Test (neighbors=15)\t0.8406\t0.5977\t0.3331\n",
      "KNN Test (neighbors=16)\t0.8396\t0.5977\t0.3331\n",
      "KNN Test (neighbors=17)\t0.8399\t0.5977\t0.3331\n",
      "KNN Test (neighbors=18)\t0.8397\t0.5977\t0.3331\n",
      "KNN Test (neighbors=19)\t0.8398\t0.5977\t0.3331\n",
      "KNN Test (neighbors=20)\t0.8395\t0.5977\t0.3331\n",
      "KNN Test (neighbors=21)\t0.8391\t0.5977\t0.3331\n",
      "KNN Test (neighbors=22)\t0.8400\t0.5977\t0.3331\n",
      "KNN Test (neighbors=23)\t0.8379\t0.5977\t0.3331\n",
      "KNN Test (neighbors=24)\t0.8399\t0.5977\t0.3331\n"
     ]
    }
   ],
   "source": [
    "# In a loop over several values, train a knn movel with different number of neighbors\n",
    "\n",
    "# I'll also keep track of the highest accuracy for the lowest # nieghbors as our \"best\" model\n",
    "knn_highest_accuracy=0\n",
    "knn_lowest_neighbors=1\n",
    "\n",
    "# Loop through neighbor values, train and test each\n",
    "for n_neighbors in range(2, 25):   # Allow up to 50 neighbors increasing by 1 each loop\n",
    "    # Initialize and train the decision tree model\n",
    "    knn_model = KNeighborsClassifier(n_neighbors=n_neighbors)\n",
    "    knn_model.fit(X_train_pca, y_train)\n",
    "    \n",
    "    # Collect info on training results if desired\n",
    "    # model_train_score = knn_model.score(X_train_scaled, y_train)                    # get the model accuracy\n",
    "    # print(\"{}\\t{}\".format(\"KNN Train (neighbors={})\".format(n_neighbors), \"{:.4f}\".format(model_test_score)))\n",
    "        \n",
    "    # Make predictions using training data\n",
    "    y_pred = knn_model.predict(X_test_pca)\n",
    "    model_test_score = accuracy_score(y_test, y_pred)\n",
    "    model_auc = roc_auc_score(y_test, y_pred)\n",
    "    model_f1 = f1_score(y_test, y_pred)\n",
    "\n",
    "    # Print the accuracies for each of the model params so far.   \n",
    "    print(\"KNN Test (neighbors={}, score={}, auc={}, f1={}\".format(n_neighbors, \"{:.4f}\".format(model_test_score),\n",
    "                                  \"{:.4f}\".format(model_auc), \"{:.4f}\".format(model_f1)))\n",
    "        \n",
    "    # we want the lowest number of estimators for better generalization \n",
    "    if model_test_score >= knn_highest_accuracy:\n",
    "        knn_lowest_neighbors = n_neighbors      # store lowest number of estimators\n",
    "        test_predictions = y_pred               # store test predictions\n",
    "        knn_best_model = knn_model              # store the best model\n",
    "        knn_highest_accuracy = model_test_score # update our highest score\n",
    "\n",
    "best_models.append(knn_best_model)              # add to our \"best model\" collection  \n",
    "model_accuracies.append(knn_highest_accuracy)   # add the accuracy    "
   ]
  },
  {
   "cell_type": "code",
   "execution_count": null,
   "metadata": {},
   "outputs": [
    {
     "name": "stdout",
     "output_type": "stream",
     "text": [
      "Best model: 14 neighbors , accuracy 0.8412\n",
      "MAE: 0.1587613035318205, AUC: 0.7355453214785367\n",
      "Precision: 0.7318982387475538, Recall: 0.5325738697045211\n",
      "Model Confusion Matrix:\n",
      " [[8365  548]\n",
      " [1313 1496]]\n",
      "Train data F1-Score for class '1': 0.6165258602926025\n",
      "Train data F1-Score for class '0': 0.8998978000107579\n"
     ]
    },
    {
     "data": {
      "text/plain": [
       "11722"
      ]
     },
     "execution_count": 78,
     "metadata": {},
     "output_type": "execute_result"
    }
   ],
   "source": [
    "# Print the best model info\n",
    "model_param_info =\"{} neighbors\".format(knn_lowest_neighbors)\n",
    "measure_model(model_param_info, knn_highest_accuracy, y_test, test_predictions)\n"
   ]
  },
  {
   "cell_type": "markdown",
   "metadata": {},
   "source": [
    "## Final Model Selection\n",
    "\n",
    "Here I enumerate through the best model for each type of classifier; do cross validation; and output AUC, accuracy, and info on the hyperparameters of our best of each type of model.  I'll use this to select the best model.\n",
    "\n",
    "The best model I will choose is the one with the highest AUC that has the lowest standard deviation and the one with the highest accuracy.\n",
    "\n",
    "After this I will load the test.csv we need to predict over, do predictions, encode the class label outputs of the predictions, and save the final csv."
   ]
  },
  {
   "cell_type": "code",
   "execution_count": null,
   "metadata": {},
   "outputs": [
    {
     "name": "stdout",
     "output_type": "stream",
     "text": [
      "ROC AUC: 0.89 (+/- 0.01) [Accuracy 0.8386] LogisticRegression(random_state=17, solver='saga')\n",
      "ROC AUC: 0.88 (+/- 0.01) [Accuracy 0.8497] SVC(C=5.0, random_state=17)\n",
      "ROC AUC: 0.88 (+/- 0.01) [Accuracy 0.8369] DecisionTreeClassifier(criterion='log_loss', max_depth=7, random_state=17)\n",
      "ROC AUC: 0.90 (+/- 0.01) [Accuracy 0.8453] RandomForestClassifier(n_estimators=300, random_state=17)\n",
      "ROC AUC: 0.88 (+/- 0.01) [Accuracy 0.8412] KNeighborsClassifier(n_neighbors=14)\n"
     ]
    }
   ],
   "source": [
    "# Do some cross validation on all models using AUC\n",
    "for model, accuracy in zip(best_models, model_accuracies):\n",
    "        score = cross_val_score(estimator=model,\n",
    "                                X=X_train_pca,\n",
    "                                y=y_train,\n",
    "                                cv=10,\n",
    "                                scoring='roc_auc')\n",
    "        print(f'ROC AUC: {score.mean():.2f} '\n",
    "                f'(+/- {score.std():.2f}) [Accuracy {accuracy:.4f}]', model)"
   ]
  },
  {
   "cell_type": "code",
   "execution_count": null,
   "metadata": {},
   "outputs": [
    {
     "name": "stdout",
     "output_type": "stream",
     "text": [
      "Score: 0.8567650571574816\n",
      "ROC AUC: 0.90 (+/- 0.01)\n"
     ]
    }
   ],
   "source": [
    "# We'll choose our RF model but let's try it without PCA with 300 estimators and gini criterion\n",
    "random_forest_no_pca = RandomForestClassifier(criterion='gini', n_estimators=300, random_state=17)\n",
    "random_forest_no_pca.fit(X_train_std, y_train)\n",
    "\n",
    "# Make predictions using training data\n",
    "y_pred = random_forest_no_pca.predict(X_test_std)\n",
    "model_test_score = accuracy_score(y_test, y_pred)\n",
    "model_auc = roc_auc_score(y_test, y_pred)\n",
    "model_f1 = f1_score(y_test, y_pred)\n",
    "\n",
    "print(\"Score: {}\".format(model_test_score))\n",
    "score = cross_val_score(estimator=random_forest_no_pca,\n",
    "                        X=X_train_pca,\n",
    "                        y=y_train,\n",
    "                        cv=10,\n",
    "                        scoring='roc_auc')\n",
    "print(f'ROC AUC: {score.mean():.2f} ' f'(+/- {score.std():.2f})')\n",
    "    "
   ]
  },
  {
   "cell_type": "code",
   "execution_count": null,
   "metadata": {},
   "outputs": [
    {
     "ename": "NameError",
     "evalue": "name 'LDA' is not defined",
     "output_type": "error",
     "traceback": [
      "\u001b[1;31m---------------------------------------------------------------------------\u001b[0m",
      "\u001b[1;31mNameError\u001b[0m                                 Traceback (most recent call last)",
      "Cell \u001b[1;32mIn[1], line 2\u001b[0m\n\u001b[0;32m      1\u001b[0m \u001b[38;5;66;03m# Fit a linear descriminant over the PCA. \u001b[39;00m\n\u001b[1;32m----> 2\u001b[0m lda \u001b[38;5;241m=\u001b[39m \u001b[43mLDA\u001b[49m(n_components\u001b[38;5;241m=\u001b[39m\u001b[38;5;241m1\u001b[39m)\n\u001b[0;32m      3\u001b[0m X_train_pca_lda \u001b[38;5;241m=\u001b[39m lda\u001b[38;5;241m.\u001b[39mfit_transform(X_train_std\u001b[38;5;241m.\u001b[39mtoarray(), y_train)\n\u001b[0;32m      4\u001b[0m X_test_pca_lda \u001b[38;5;241m=\u001b[39m lda\u001b[38;5;241m.\u001b[39mtransform(X_test_std\u001b[38;5;241m.\u001b[39mtoarray())\n",
      "\u001b[1;31mNameError\u001b[0m: name 'LDA' is not defined"
     ]
    }
   ],
   "source": [
    "# Fit a linear descriminant over the PCA. \n",
    "lda = LDA(n_components=1)\n",
    "X_train_pca_lda = lda.fit_transform(X_train_std.toarray(), y_train)\n",
    "X_test_pca_lda = lda.transform(X_test_std.toarray())\n",
    "\n",
    "# I'll try the same thing but I'll do PCA with LDA applied after PCA dimensionality reduction.\n",
    "# We'll choose our RF model but let's try it without PCA with 300 estimators and gini criterion\n",
    "random_forest_pca_lda = RandomForestClassifier(criterion='gini', n_estimators=300, random_state=17)\n",
    "random_forest_pca_lda.fit(X_train_pca_lda, y_train)\n",
    "\n"
   ]
  },
  {
   "cell_type": "code",
   "execution_count": null,
   "metadata": {},
   "outputs": [
    {
     "ename": "NameError",
     "evalue": "name 'random_forest_pca_lda' is not defined",
     "output_type": "error",
     "traceback": [
      "\u001b[1;31m---------------------------------------------------------------------------\u001b[0m",
      "\u001b[1;31mNameError\u001b[0m                                 Traceback (most recent call last)",
      "Cell \u001b[1;32mIn[2], line 2\u001b[0m\n\u001b[0;32m      1\u001b[0m \u001b[38;5;66;03m# Make predictions using training data\u001b[39;00m\n\u001b[1;32m----> 2\u001b[0m y_pred \u001b[38;5;241m=\u001b[39m \u001b[43mrandom_forest_pca_lda\u001b[49m\u001b[38;5;241m.\u001b[39mpredict(X_test_pca_lda)\n\u001b[0;32m      3\u001b[0m y_pred\u001b[38;5;241m.\u001b[39msize\n\u001b[0;32m      5\u001b[0m \u001b[38;5;124;03m'''\u001b[39;00m\n\u001b[0;32m      6\u001b[0m \u001b[38;5;124;03mmodel_test_score = accuracy_score(y_test, y_pred)\u001b[39;00m\n\u001b[0;32m      7\u001b[0m \u001b[38;5;124;03mprint(\"Score: {}\".format(model_test_score))\u001b[39;00m\n\u001b[1;32m   (...)\u001b[0m\n\u001b[0;32m     13\u001b[0m \u001b[38;5;124;03mprint(f'ROC AUC: {score.mean():.2f} ' f'(+/- {score.std():.2f})')\u001b[39;00m\n\u001b[0;32m     14\u001b[0m \u001b[38;5;124;03m'''\u001b[39;00m\n",
      "\u001b[1;31mNameError\u001b[0m: name 'random_forest_pca_lda' is not defined"
     ]
    }
   ],
   "source": [
    "# Make predictions using training data\n",
    "y_pred = random_forest_pca_lda.predict(X_test_pca_lda)\n",
    "y_pred.size\n",
    "\n",
    "'''\n",
    "model_test_score = accuracy_score(y_test, y_pred)\n",
    "print(\"Score: {}\".format(model_test_score))\n",
    "score = cross_val_score(estimator=random_forest_pca_lda,\n",
    "                        X=X_train_pca,\n",
    "                        y=y_train,\n",
    "                        cv=10,\n",
    "                        scoring='roc_auc')\n",
    "print(f'ROC AUC: {score.mean():.2f} ' f'(+/- {score.std():.2f})')\n",
    "'''"
   ]
  },
  {
   "cell_type": "markdown",
   "metadata": {},
   "source": [
    "The model without PCA has no accuracy improvement but takes much longer to train and is much more complex.  I will select the dimensionally-reduced model (PCA applied version) of the model."
   ]
  },
  {
   "cell_type": "markdown",
   "metadata": {},
   "source": [
    "## Predict over our model and save the result\n",
    "\n",
    "My first submission to Kaggle was based on the best AUC of 0.99 +/- 0.01 with an expected accuracy of 0.9854 and used the Random Forest Classifier using the log_loss criterion with 300 estimators.  Below is from my second submission, which used the Logistic Regression model to get my final submission.\n",
    "\n",
    "I then did predictions using the choice model, which was saved as the lr_best_model. Then we do the inverse transform of the class labels on the output of the prediction, cobble together a resulting dataset for submission, and save it."
   ]
  },
  {
   "cell_type": "code",
   "execution_count": null,
   "metadata": {},
   "outputs": [
    {
     "name": "stdout",
     "output_type": "stream",
     "text": [
      "         id  label\n",
      "0       392      0\n",
      "1      1900      0\n",
      "2     24507      0\n",
      "3     32817      0\n",
      "4     47893      0\n",
      "...     ...    ...\n",
      "9764  13000      0\n",
      "9765  43012      0\n",
      "9766  34782      0\n",
      "9767  23538      0\n",
      "9768  23097      0\n",
      "\n",
      "[9769 rows x 2 columns]\n",
      "csv written.\n"
     ]
    }
   ],
   "source": [
    "# Do predictions on the submission test set and save the output as csv\n",
    "data_test_input = pd.read_csv('datasets/test.csv') # get the test inputs\n",
    "\n",
    "# remove the ID column and the save it in output_ids\n",
    "output_ids = data_test_input['id']                  # set the IDs we'll output but don't predict on them\n",
    "X_test_cleansed = data_test_input.drop('id', axis=1)\n",
    "\n",
    "# Need to encode the test data\n",
    "# This uses the OHE and scaler we trained earlier as feature_encoder\n",
    "X_test_std = feature_encoder.transform(X_test_cleansed)\n",
    "\n",
    "# Use the previous pca matrix to transform the test data\n",
    "X_test_pca = pca.transform(X_test_std)\n",
    "\n",
    "# Now ready for predicting. Predict and store results.\n",
    "y_pred = rforest_best_model.predict(X_test_pca)   # use the model to predict outcomes\n",
    "\n",
    "output_df = pd.DataFrame(output_ids)                # prep a dataframe for our output\n",
    "output_df = output_df.assign(label=y_pred)  # append the predictions to the IDs\n",
    "\n",
    "output_df.to_csv(\"DonKrapohl_project2_submission.csv\", index=False) # write the csv\n",
    "\n",
    "print(output_df)\n",
    "\n",
    "print('csv written.')                               # complete"
   ]
  },
  {
   "cell_type": "markdown",
   "metadata": {},
   "source": [
    "## Conclusion\n",
    "\n",
    "My choice of models used Logistic Regression with C=0.75 employing the SAGA solver. Submitted to Kaggle it achieved 0.98245 accuracy.  My first submission used Random Forest and, while it scored well locally, it only got to 0.95614 over the final test set."
   ]
  }
 ],
 "metadata": {
  "kernelspec": {
   "display_name": "uwf-venv-breast-cancer",
   "language": "python",
   "name": "uwf-venv-breast-cancer"
  },
  "language_info": {
   "codemirror_mode": {
    "name": "ipython",
    "version": 3
   },
   "file_extension": ".py",
   "mimetype": "text/x-python",
   "name": "python",
   "nbconvert_exporter": "python",
   "pygments_lexer": "ipython3",
   "version": "3.12.7"
  }
 },
 "nbformat": 4,
 "nbformat_minor": 4
}
